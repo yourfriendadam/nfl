{
 "cells": [
  {
   "cell_type": "code",
   "execution_count": null,
   "metadata": {},
   "outputs": [],
   "source": [
    "%matplotlib inline\n",
    "import numpy as np\n",
    "import pandas as pd\n",
    "import matplotlib.pyplot as plt\n",
    "from matplotlib.offsetbox import (TextArea, DrawingArea, OffsetImage, AnnotationBbox)\n",
    "import sys\n",
    "from pylab import *\n",
    "import os\n",
    "import urllib.request\n",
    "import seaborn as sns\n",
    "\n",
    "# pd.set_option('display.max_columns', None)\n",
    "# pd.set_option('display.max_rows', None)\n",
    "#pd.set_option('display.max_colwidth', None)"
   ]
  },
  {
   "cell_type": "code",
   "execution_count": null,
   "metadata": {},
   "outputs": [],
   "source": [
    "#The feistiness index represents teams not giving up\n",
    "#It sums positive EPA plays when win probability is less than 35%\n",
    "#It does not punish for negative EPA plays\n",
    "#It is only interested in the punches you land"
   ]
  },
  {
   "cell_type": "code",
   "execution_count": null,
   "metadata": {},
   "outputs": [],
   "source": [
    "YEAR = 2020\n",
    "data = pd.read_csv('https://github.com/guga31bb/nflfastR-data/blob/master/data/' \\\n",
    "                         'play_by_play_' + str(YEAR) + '.csv.gz?raw=True',\n",
    "                         compression='gzip', low_memory=False)"
   ]
  },
  {
   "cell_type": "code",
   "execution_count": null,
   "metadata": {},
   "outputs": [],
   "source": [
    "underdogs = data.loc[(data['wp'] < 0.35) & (data['posteam_score'] < data['defteam_score']) \n",
    "& (data['wpa'] > 0)]\n",
    "underdogs = underdogs[['posteam', 'defteam', 'posteam_score', 'defteam_score', 'wp', 'wpa', 'desc']].sort_values(by='wpa', ascending=False)\n",
    "underdogs.head(10)\n",
    "#underdogs.loc[(data.posteam == 'PHI')].head(10)"
   ]
  },
  {
   "cell_type": "code",
   "execution_count": null,
   "metadata": {},
   "outputs": [],
   "source": [
    "wp_vals = underdogs.groupby('posteam')['wpa'].sum()\n",
    "wp_vals = wp_vals.reset_index()\n",
    "#wp_vals"
   ]
  },
  {
   "cell_type": "code",
   "execution_count": null,
   "metadata": {},
   "outputs": [],
   "source": [
    "#cols = data.columns.tolist()"
   ]
  },
  {
   "cell_type": "code",
   "execution_count": null,
   "metadata": {},
   "outputs": [],
   "source": [
    "COLORS = {'ARI':'#97233F','ATL':'#A71930','BAL':'#241773','BUF':'#00338D','CAR':'#0085CA','CHI':'#00143F',\n",
    "          'CIN':'#FB4F14','CLE':'#FB4F14','DAL':'#B0B7BC','DEN':'#002244','DET':'#046EB4','GB':'#24423C',\n",
    "          'HOU':'#C9243F','IND':'#003D79','JAX':'#136677','KC':'#CA2430','LA':'#002147','LAC':'#2072BA',\n",
    "          'LV':'#C4C9CC','MIA':'#0091A0','MIN':'#4F2E84','NE':'#0A2342','NO':'#A08A58','NYG':'#192E6C',\n",
    "          'NYJ':'#203731','PHI':'#014A53','PIT':'#FFC20E','SEA':'#7AC142','SF':'#C9243F','TB':'#D40909',\n",
    "          'TEN':'#4095D1','WAS':'#FFC20F'}"
   ]
  },
  {
   "cell_type": "code",
   "execution_count": null,
   "metadata": {},
   "outputs": [],
   "source": [
    "#sns.catplot(x='posteam', y='wpa', kind='swarm', data=underdogs, height=10, aspect = 2)\n",
    "\n",
    "#urls = pd.read_csv('https://raw.githubusercontent.com/statsbylopez/BlogPosts/master/nfl_teamlogos.csv')\n",
    "#for i in range(0,len(urls)):\n",
    "#    urllib.request.urlretrieve(urls['url'].iloc[i], os.getcwd() + '\\\\nfllogos\\\\' + urls['team'].iloc[i] + '.png')"
   ]
  },
  {
   "cell_type": "code",
   "execution_count": null,
   "metadata": {},
   "outputs": [],
   "source": [
    "   \n",
    "#this function allows us to get images onto chart\n",
    "def getImage(path): \n",
    "    return OffsetImage(plt.imread(path), zoom=.5)\n",
    "\n",
    "logos = os.listdir(os.getcwd() + '\\\\nfllogos')\n",
    "\n",
    "logo_paths = []\n",
    "\n",
    "for i in logos:\n",
    "    logo_paths.append(os.getcwd() + '\\\\nfllogos\\\\' + str(i))\n",
    "    \n",
    "logo_paths\n",
    "\n",
    "#Add team colors to dataframe\n",
    "wp_vals['color'] = COLORS.values()\n",
    "\n",
    "#Add path column where each row will have the location of the team's logo\n",
    "wp_vals['path'] = logo_paths\n",
    "\n",
    "#logo_paths"
   ]
  },
  {
   "cell_type": "code",
   "execution_count": null,
   "metadata": {},
   "outputs": [],
   "source": [
    "fig, ax = plt.subplots(figsize=(30,10))\n",
    "\n",
    "#sort by feistyness\n",
    "wp_vals = wp_vals.sort_values(by='wpa', ascending=False)\n",
    "\n",
    "#Add logos\n",
    "#X data is an array from 0-31 (for 32 teams)\n",
    "for x0, y0, path in zip(np.arange(0,32), wp_vals['wpa']+.005,wp_vals['path']):\n",
    "    ab = AnnotationBbox(getImage(path), (x0, y0), frameon=False, fontsize=4)\n",
    "    ax.add_artist(ab)\n",
    "\n",
    "#create bar chart, setting colors for each bar\n",
    "ax.bar(np.arange(0, 32), wp_vals['wpa'], color=wp_vals.color,width=.5)\n",
    "\n",
    "#set league average feistiness\n",
    "ax.axhline(y=wp_vals['wpa'].mean(), linestyle='--', color='grey')\n",
    "\n",
    "#add grid\n",
    "ax.grid(zorder=0, alpha=.6, axis='y')\n",
    "ax.set_axisbelow(True)\n",
    "\n",
    "#Set x-ticks labels to be team abbreviations\n",
    "ax.set_xticks(np.arange(0,32))\n",
    "ax.set_xticklabels(wp_vals.posteam,fontsize=16)\n",
    "\n",
    "#Set labels and give source\n",
    "ax.set_ylabel('Feistiness (Sum +WPA when WP Under 35%)',fontsize=20,labelpad=20)\n",
    "ax.set_title('Feistiness Index Through Week 13, 2020',\n",
    "             fontsize=26,pad=20)\n",
    "plt.figtext(.81, 0.06,'Data: nflfastR',fontsize=14)\n",
    "plt.figtext(.81, 0.03,'Chart: @goodfriendadam',fontsize=14)\n",
    "\n",
    "#League average line label\n",
    "plt.text(20, 3.4,'League Average Feistiness',fontsize=14)\n",
    "\n",
    "plt.savefig(os.getcwd() + '\\\\output\\\\feistinessIndex2020.png',dpi=400)"
   ]
  }
 ],
 "metadata": {
  "kernelspec": {
   "display_name": "Python 3",
   "language": "python",
   "name": "python3"
  },
  "language_info": {
   "codemirror_mode": {
    "name": "ipython",
    "version": 3
   },
   "file_extension": ".py",
   "mimetype": "text/x-python",
   "name": "python",
   "nbconvert_exporter": "python",
   "pygments_lexer": "ipython3",
   "version": "3.7.4"
  }
 },
 "nbformat": 4,
 "nbformat_minor": 4
}
