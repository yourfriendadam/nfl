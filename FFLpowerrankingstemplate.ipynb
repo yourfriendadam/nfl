{
 "cells": [
  {
   "cell_type": "code",
   "execution_count": null,
   "metadata": {},
   "outputs": [],
   "source": [
    "import requests\n",
    "import json\n",
    "import numpy as np\n",
    "import pandas as pd\n",
    "import matplotlib.pyplot as plt\n",
    "from matplotlib.offsetbox import (TextArea, DrawingArea, OffsetImage, AnnotationBbox)\n",
    "import sys\n",
    "from pylab import *\n",
    "import os\n",
    "import urllib.request\n",
    "import itertools\n",
    "import seaborn as sns\n",
    "import numpy as np\n",
    "from adjustText import adjust_text\n",
    "import statistics"
   ]
  },
  {
   "cell_type": "code",
   "execution_count": null,
   "metadata": {},
   "outputs": [],
   "source": [
    "#get league info - requires league to be PUBLIC viewable\n",
    "league_id = #insertleagueid here\n",
    "year = #insertyear\n",
    "url = 'https://fantasy.espn.com/apis/v3/games/ffl/seasons/' + str(year)+'/segments/0/leagues/'+str(league_id)\n",
    "#cookies = {\"swid\":\"{53C447FA-F80D-447C-A228-31DA5528E1A5}\",\n",
    "#          \"espn_s2\":\"AEALJB1U8dzv47STesAjeGBieNUNmSuCg77rSQAIktcgegMhWUHoQixvwz58wTJsdpyYqdyAIeJpYjIikklqyNH0MToI7LbrN3EZWez4DbXFbnrKm39ys%2Bn3%2BKXmA7IPRSOMAQFipO3SeCcw6WDX%2B8%2Bw9NMV9xcKLGyXdJYQPSYrbAzwNn4qqEfx8pkh8SYs49ISW8n%2FWZW7JHu10hMf14QPYkEafTiNZeCXwx4y4f4Z3PcJU%2FFirwhtB3AG0Apu3WzMXJuPTmxWmLgHM6XaJCa%2BOXHcoBc6%2FdMLzmU1Txrkyg%3D%3D\"}\n",
    "r = requests.get(url)#, cookies)\n",
    "\n",
    "#get json from espn fantasy football API\n",
    "d = r.json()\n",
    "\n",
    "#get team info\n",
    "teams = d['teams']\n",
    "#example from first team\n",
    "#teams[0]"
   ]
  },
  {
   "cell_type": "code",
   "execution_count": null,
   "metadata": {},
   "outputs": [],
   "source": [
    "#get matchups from each week\n",
    "r = requests.get(url, params={\"view\":\"mMatchupScore\"})\n",
    "schedule = r.json()\n",
    "#schedule"
   ]
  },
  {
   "cell_type": "code",
   "execution_count": null,
   "metadata": {},
   "outputs": [],
   "source": [
    "#create basic dataframe for scores from each matchup each week\n",
    "weeklyScores = [[\n",
    "        game['matchupPeriodId'],\n",
    "        game['home']['teamId'], game['home']['totalPoints'],\n",
    "        game['away']['teamId'], game['away']['totalPoints']\n",
    "        ] for game in schedule['schedule']]\n",
    "weeklyScores = pd.DataFrame(weeklyScores, columns=['Week', 'Team 1', 'Score 1', 'Team 2', 'Score 2'])\n",
    "weeklyScores['Type'] = ['Regular' if w<= 13 else 'Playoff' for w in weeklyScores['Week']]\n",
    "#weeklyScores.head()"
   ]
  },
  {
   "cell_type": "code",
   "execution_count": null,
   "metadata": {},
   "outputs": [],
   "source": [
    "#for post-final week of regular season only\n",
    "#weeklyScores = []\n",
    "#72 may change based on number of matchups per week*regular season weeks\n",
    "#for game in range(0, 72):\n",
    "#    if game < 72:\n",
    "#        weeklyScores.append([\n",
    "#                schedule['schedule'][game]['matchupPeriodId'],\n",
    "#                schedule['schedule'][game]['home']['teamId'], schedule['schedule'][game]['home']['totalPoints'],\n",
    "#                schedule['schedule'][game]['away']['teamId'], schedule['schedule'][game]['away']['totalPoints']\n",
    "#                ]) #for game in schedule['schedule']]\n",
    "#weeklyScores = pd.DataFrame(weeklyScores, columns=['Week', 'Team 1', 'Score 1', 'Team 2', 'Score 2'])\n",
    "#weeklyScores['Type'] = ['Regular' if w<= 13 else 'Playoff' for w in weeklyScores['Week']]\n",
    "#weeklyScores.head()"
   ]
  },
  {
   "cell_type": "code",
   "execution_count": null,
   "metadata": {},
   "outputs": [],
   "source": [
    "#attach team names to their matchup and score\n",
    "\n",
    "teamName1 = []\n",
    "teamName2 = []\n",
    "\n",
    "#for every row, go through teams json view and append names to list\n",
    "for index, row in weeklyScores.iterrows():\n",
    "    for team in teams:\n",
    "        if row['Team 1'] == team['id']:\n",
    "            teamName1.append(team['location'] + ' ' + team['nickname'])\n",
    "            \n",
    "for index, row in weeklyScores.iterrows():\n",
    "    for team in teams:\n",
    "        if row['Team 2'] == team['id']:\n",
    "            teamName2.append(team['location'] + ' ' + team['nickname'])\n",
    "\n",
    "#put names from list in appropriate column\n",
    "weeklyScores['Team Name 1'] = teamName1\n",
    "weeklyScores['Team Name 2'] = teamName2\n",
    "\n",
    "#re-order columns using column_order list\n",
    "column_order = [\"Week\", \"Team 1\", \"Team Name 1\", \"Score 1\", \"Team 2\", \"Team Name 2\", \"Score 2\"]\n",
    "weeklyScores = weeklyScores.reindex(columns=column_order)\n",
    "#weeklyScores.head(12)"
   ]
  },
  {
   "cell_type": "code",
   "execution_count": null,
   "metadata": {},
   "outputs": [],
   "source": [
    "#get team overall info from json for standings\n",
    "r = requests.get(url, params={\"view\":\"mTeam\"})\n",
    "teamstandings = r.json()\n",
    "\n",
    "#example of overall info for a team\n",
    "teamstandings['teams'][0]['record']['overall']\n",
    "#teamstandings"
   ]
  },
  {
   "cell_type": "code",
   "execution_count": null,
   "metadata": {},
   "outputs": [],
   "source": [
    "#create standings dataframe\n",
    "standings = []\n",
    "    \n",
    "standings = [[\n",
    "        team['id'],\n",
    "        team['location'] + ' ' + team['nickname'], \n",
    "        team['record']['overall']['wins'], team['record']['overall']['losses'], team['record']['overall']['ties'], team['record']['overall']['percentage'], \n",
    "        team['record']['overall']['pointsFor'], team['record']['overall']['pointsAgainst']\n",
    "        ] for team in teamstandings['teams']]\n",
    "standings = pd.DataFrame(standings, columns=['Team ID', 'Team Name', 'Wins', 'Losses', 'Ties', 'Win %', 'Points For', 'Points Against'])\n",
    "#standings"
   ]
  },
  {
   "cell_type": "code",
   "execution_count": null,
   "metadata": {},
   "outputs": [],
   "source": [
    "#add analytical columns to standings dataframe\n",
    "\n",
    "#pythagorean wins\n",
    "standings['Expected Wins'] = ((standings['Points For']**2)/((standings['Points For']**2)+(standings['Points Against']**2)))*(standings['Wins'] + standings['Losses'] + standings['Ties'])\n",
    "standings['Expected Win %'] = standings['Expected Wins']/(standings['Wins'] + standings['Losses'] + standings['Ties'])\n",
    "\n",
    "standings['Points Per Week'] = standings['Points For']/(standings['Wins'] + standings['Losses'] + standings['Ties'])\n",
    "\n",
    "#start median wins at points per week, will be calced later\n",
    "standings['Deserved Wins'] = 0\n",
    "standings['Deserved Win %'] = standings['Deserved Wins']/(standings['Wins'] + standings['Losses'] + standings['Ties'])\n",
    "\n",
    "#round columns appropriately\n",
    "standings['Expected Wins'] = standings['Expected Wins'].round(2)\n",
    "standings['Points Per Week'] = standings['Points Per Week'].round(2)\n",
    "standings['Win %'] = standings['Win %'].round(3)\n",
    "standings['Expected Win %'] = standings['Expected Win %'].round(3)\n",
    "\n",
    "#rearrange columns\n",
    "column_order = [\"Team ID\", \"Team Name\", \"Wins\", \"Losses\", \"Ties\", \"Win %\", \"Points For\", \"Points Against\", \"Points Per Week\", \"Expected Wins\", \"Expected Win %\"]\n",
    "standings = standings.reindex(columns=column_order)\n",
    "#standings"
   ]
  },
  {
   "cell_type": "code",
   "execution_count": null,
   "metadata": {},
   "outputs": [],
   "source": [
    "#included here to prevent accidental increases from re-running cell\n",
    "standings['Deserved Wins'] = 0\n",
    "\n",
    "totalWeeks = standings.loc[(0)]['Wins'] + standings.loc[(0)]['Losses'] + standings.loc[(0)]['Ties']\n",
    "totalWeeks\n",
    "\n",
    "weeklyMedian = []\n",
    "\n",
    "#get weekly median in list for each week\n",
    "for i in range(1, totalWeeks+1):\n",
    "    currentWeekScores = pd.concat([weeklyScores[\"Score 1\"][weeklyScores['Week'] == i], weeklyScores[\"Score 2\"][weeklyScores['Week'] == i]]).sort_index().values.tolist()\n",
    "    #print(currentWeekScores)\n",
    "    weeklyMedian.append(statistics.median(currentWeekScores))\n",
    "#    print('Week ' + str(i) + ': ' + str(weeklyMedian))\n",
    "\n",
    "#add a deserved win for each team when they have a score over the weekly median\n",
    "for index, row in weeklyScores.iterrows():\n",
    "    for id in standings['Team ID']:\n",
    "        if row['Team 1'] == id:\n",
    "            #ensure we stay within length of weeklyMedian\n",
    "            if (row['Week'] <= len(weeklyMedian)):\n",
    "                #use -1 for correct index\n",
    "                if (row['Score 1'] > weeklyMedian[row['Week']-1]):\n",
    "                    standings.loc[(standings['Team ID'] == id) & (standings['Team ID'] == row['Team 1']), 'Deserved Wins'] += 1\n",
    "\n",
    "        elif row['Team 2'] == id: \n",
    "            #ensure we stay within length of weeklyMedian\n",
    "            if (row['Week'] <= len(weeklyMedian)):\n",
    "                #use -1 for correct index\n",
    "                if (row['Score 2'] > weeklyMedian[row['Week']-1]):\n",
    "                    standings.loc[(standings['Team ID'] == id) & (standings['Team ID'] == row['Team 2']), 'Deserved Wins'] += 1\n",
    "        else:\n",
    "            continue\n",
    "\n",
    "#standings"
   ]
  },
  {
   "cell_type": "code",
   "execution_count": null,
   "metadata": {},
   "outputs": [],
   "source": [
    "#set appropriate deserved win %\n",
    "standings['Deserved Win %'] = standings['Deserved Wins']/(standings['Wins'] + standings['Losses'] + standings['Ties'])\n",
    "standings['Deserved Win %'] = standings['Deserved Win %'].round(3)\n",
    "#standings"
   ]
  },
  {
   "cell_type": "code",
   "execution_count": null,
   "metadata": {},
   "outputs": [],
   "source": [
    "#set power ranking values\n",
    "standings['Power Rank Score'] = ((standings['Points For'])*40 + (standings['Points For'] * standings['Expected Win %'])*20 + (standings['Points For'] * standings['Deserved Win %'])*40)/100\n",
    "standings['Power Rank Score'] = standings['Power Rank Score'].round(1)\n",
    "#standings.sort_values(by='Power Rank Score', ascending=False)"
   ]
  },
  {
   "cell_type": "code",
   "execution_count": null,
   "metadata": {},
   "outputs": [],
   "source": [
    "finalStandings = standings[['Team Name', 'Wins', 'Losses', 'Ties', 'Win %', 'Points For', 'Points Per Week', 'Expected Wins', 'Deserved Wins', 'Deserved Win %', 'Power Rank Score']]\n",
    "finalStandings = finalStandings.sort_values(by='Power Rank Score', ascending=False)\n",
    "#finalStandings"
   ]
  },
  {
   "cell_type": "code",
   "execution_count": null,
   "metadata": {},
   "outputs": [],
   "source": [
    "import dataframe_image as dfi\n",
    "finalStandings.dfi.export('FFLStandings.png')"
   ]
  },
  {
   "cell_type": "code",
   "execution_count": null,
   "metadata": {},
   "outputs": [],
   "source": [
    "#standings['Max Score'] = 0\n",
    "#standings['Min Score'] = 9999\n",
    "#standings"
   ]
  },
  {
   "cell_type": "code",
   "execution_count": null,
   "metadata": {},
   "outputs": [],
   "source": [
    "#finding max and min scores\n",
    "#for id in standings['Team ID']:\n",
    "#    maxScore = 0\n",
    "#    minScore = 9999\n",
    "#    for index, row in weeklyScores.iterrows():\n",
    "#        if row['Team 1'] == id:\n",
    "#            #ensure we stay within length of weeklyMedian\n",
    "#            if row['Score 1'] > maxScore:\n",
    "#                maxScore = row['Score 1']\n",
    "#            if (row['Score 1'] < minScore) & (row['Score 1'] > 0):\n",
    "#                minScore = row['Score 1']\n",
    "#        elif row['Team 2'] == id:\n",
    "#            #ensure we stay within length of weeklyMedian\n",
    "#            if row['Score 2'] > maxScore:\n",
    "#                maxScore = row['Score 2']\n",
    "#            if (row['Score 2'] < minScore) & (row['Score 2'] > 0):\n",
    "#                minScore = row['Score 2']\n",
    "#        else:\n",
    "#            continue\n",
    "#    standings.loc[(standings['Team ID'] == id), 'Max Score'] = maxScore  \n",
    "#    standings.loc[(standings['Team ID'] == id), 'Min Score'] = minScore\n",
    "#standings"
   ]
  }
 ],
 "metadata": {
  "kernelspec": {
   "display_name": "Python 3",
   "language": "python",
   "name": "python3"
  },
  "language_info": {
   "codemirror_mode": {
    "name": "ipython",
    "version": 3
   },
   "file_extension": ".py",
   "mimetype": "text/x-python",
   "name": "python",
   "nbconvert_exporter": "python",
   "pygments_lexer": "ipython3",
   "version": "3.7.4"
  }
 },
 "nbformat": 4,
 "nbformat_minor": 4
}
