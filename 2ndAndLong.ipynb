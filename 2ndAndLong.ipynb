{
 "cells": [
  {
   "cell_type": "code",
   "execution_count": 1,
   "metadata": {},
   "outputs": [],
   "source": [
    "%matplotlib inline\n",
    "import numpy as np\n",
    "import pandas as pd\n",
    "import matplotlib.pyplot as plt\n",
    "from matplotlib.offsetbox import (TextArea, DrawingArea, OffsetImage, AnnotationBbox)\n",
    "import sys\n",
    "from pylab import *\n",
    "import os\n",
    "import urllib.request\n",
    "import itertools\n",
    "import seaborn as sns\n",
    "import numpy as np\n",
    "from adjustText import adjust_text"
   ]
  },
  {
   "cell_type": "code",
   "execution_count": 2,
   "metadata": {},
   "outputs": [],
   "source": [
    "# pd.set_option('display.max_columns', None)\n",
    "# pd.set_option('display.max_rows', None)\n",
    "#pd.set_option('display.max_colwidth', None)\n",
    "\n",
    "pd.options.mode.chained_assignment = None"
   ]
  },
  {
   "cell_type": "code",
   "execution_count": 3,
   "metadata": {},
   "outputs": [],
   "source": [
    "YEAR = 2020\n",
    "data = pd.read_csv('https://github.com/guga31bb/nflfastR-data/blob/master/data/' \\\n",
    "                         'play_by_play_' + str(YEAR) + '.csv.gz?raw=True',\n",
    "                         compression='gzip', low_memory=False)"
   ]
  },
  {
   "cell_type": "code",
   "execution_count": 4,
   "metadata": {},
   "outputs": [],
   "source": [
    "#remove deprecated columns\n",
    "data.drop(['passer_player_name', 'passer_player_id',\n",
    "           'rusher_player_name', 'rusher_player_id',\n",
    "           'receiver_player_name', 'receiver_player_id'],\n",
    "          axis=1, inplace=True)"
   ]
  },
  {
   "cell_type": "code",
   "execution_count": 5,
   "metadata": {},
   "outputs": [],
   "source": [
    "#remove plays that are not penalties, passes, or runs or have null epa\n",
    "data = data.loc[(data.play_type.isin(['no_play','pass','run'])) & (data.epa.isna()==False)]"
   ]
  },
  {
   "cell_type": "code",
   "execution_count": 6,
   "metadata": {},
   "outputs": [],
   "source": [
    "#make sure QB scrambles are labeled appropriately\n",
    "data.play_type.loc[data['pass']==1] = 'pass'\n",
    "data.play_type.loc[data.rush==1] = 'run'"
   ]
  },
  {
   "cell_type": "code",
   "execution_count": 7,
   "metadata": {},
   "outputs": [],
   "source": [
    "#clean up index after data clean up\n",
    "data.reset_index(drop=True, inplace=True)"
   ]
  },
  {
   "cell_type": "code",
   "execution_count": 8,
   "metadata": {},
   "outputs": [],
   "source": [
    "penalties = data.loc[(data['play_type']=='no_play') & ~(data.desc.str.contains('Timeout'))][['play_type', 'desc', 'epa', 'play_id']]\n",
    "penalties = penalties.groupby(['play_type'], as_index=False).agg({'epa':'mean', 'play_id':'count'})\n",
    "#penalties"
   ]
  },
  {
   "cell_type": "code",
   "execution_count": 9,
   "metadata": {},
   "outputs": [],
   "source": [
    "#group by without making it the index!\n",
    "passvrush = data[['play_id', 'down', 'ydstogo', 'play_type', 'desc', 'wp', 'epa']]\n",
    "passvrush = passvrush.loc[(passvrush['down'] == 2.0) & (passvrush['ydstogo'] >= 7) & (passvrush['wp'] > .2) & (passvrush['wp'] < .8)]\n",
    "#passvrush"
   ]
  },
  {
   "cell_type": "code",
   "execution_count": 10,
   "metadata": {},
   "outputs": [],
   "source": [
    "secdowngroups = passvrush.groupby(['play_type'], as_index=False).agg({'epa':'mean', 'play_id':'count'})\n",
    "#secdowngroups"
   ]
  },
  {
   "cell_type": "code",
   "execution_count": 16,
   "metadata": {},
   "outputs": [
    {
     "data": {
      "image/png": "[encoded data removed]",
      "text/plain": [
       "<Figure size 864x576 with 1 Axes>"
      ]
     },
     "metadata": {
      "needs_background": "light"
     },
     "output_type": "display_data"
    }
   ],
   "source": [
    "#Create figure and enter in a figsize\n",
    "fig, ax = plt.subplots(figsize=(12,8))\n",
    "\n",
    "passes = passvrush.loc[(passvrush['play_type']=='pass')]['epa']\n",
    "rushes = passvrush.loc[(passvrush['play_type']=='run')]['epa']\n",
    "#Place a histogram on the figure with the EPA of all pass plays\n",
    "#Bins are how many groupings or buckets the data will be split into\n",
    "#Assign a label for the legend and choose a color\n",
    "plt.hist(passes, bins=50, label='Pass', color='hotpink')\n",
    "\n",
    "#Place a second histogram this time for rush plays, \n",
    "#The alpha < 1 will make this somewhat transparent\n",
    "plt.hist(rushes, bins=50, label='Run', alpha=.7, color='lime')\n",
    "\n",
    "#Add labels and title\n",
    "plt.xlabel('Expected Points Added',fontsize=12)\n",
    "plt.ylabel('Number of Plays',fontsize=12)\n",
    "plt.title('2020 2nd and Long EPA Distribution Based on Play Type - WP 20-80%',fontsize=14)\n",
    "\n",
    "#Add source, the first two numbers are x and y \n",
    "#coordinates as a decimal of the whole image\n",
    "plt.figtext(.75,.07,'Data: nflfastR', fontsize=10)\n",
    "plt.figtext(.75,.05,'Chart: @goodfriendadam', fontsize=10)\n",
    "\n",
    "#Add a legend\n",
    "plt.legend()\n",
    "\n",
    "plt.xlim(-7.5, 5.0)\n",
    "ax.axvline(x=0, linestyle='--', color='black')\n",
    "\n",
    "#Save the figure as a png\n",
    "plt.savefig(os.getcwd() + '\\\\output\\\\2ndAndLong.png', dpi=400)"
   ]
  },
  {
   "cell_type": "code",
   "execution_count": 12,
   "metadata": {},
   "outputs": [],
   "source": [
    "#cols = data.columns.tolist()\n",
    "#cols"
   ]
  }
 ],
 "metadata": {
  "kernelspec": {
   "display_name": "Python 3",
   "language": "python",
   "name": "python3"
  },
  "language_info": {
   "codemirror_mode": {
    "name": "ipython",
    "version": 3
   },
   "file_extension": ".py",
   "mimetype": "text/x-python",
   "name": "python",
   "nbconvert_exporter": "python",
   "pygments_lexer": "ipython3",
   "version": "3.7.4"
  }
 },
 "nbformat": 4,
 "nbformat_minor": 4
}
